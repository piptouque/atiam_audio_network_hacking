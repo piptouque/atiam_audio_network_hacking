{
 "cells": [
  {
   "cell_type": "markdown",
   "metadata": {},
   "source": [
    "Following https://avandekleut.github.io/vae/"
   ]
  },
  {
   "cell_type": "code",
   "execution_count": 2,
   "metadata": {},
   "outputs": [],
   "source": [
    "import torch\n",
    "import torch.nn.functional as func\n",
    "import torchvision\n",
    "import numpy as np\n",
    "import matplotlib.pyplot as plt\n",
    "from tqdm import tqdm\n",
    "\n",
    "from typing import Tuple\n",
    "device = 'cuda' if torch.cuda.is_available() else 'cpu'\n",
    "\n",
    "\n",
    "is_test = True"
   ]
  },
  {
   "cell_type": "code",
   "execution_count": 3,
   "metadata": {},
   "outputs": [],
   "source": [
    "input_dim = 784\n",
    "\n",
    "class Encoder(torch.nn.Module):\n",
    "    def __init__(self, input_dim: Tuple[int ,int], latent_dim: int) -> None:\n",
    "        super().__init__()\n",
    "        hidden_dim = 512\n",
    "        self.input_dim = input_dim\n",
    "        # fc -> fully connected\n",
    "        self.fc_1 = torch.nn.Linear(self.input_dim[0] * self.input_dim[1], hidden_dim)\n",
    "        self.fc_2 = torch.nn.Linear(hidden_dim, latent_dim)\n",
    "\n",
    "    def forward(self, x: torch.Tensor) -> torch.Tensor:\n",
    "        # from x to z \n",
    "        # x.shape -> (number_of_images, image_width, image_height)\n",
    "        x = torch.flatten(x, start_dim=1)\n",
    "        # x.shape -> (number_of_images, image_width * image_height)\n",
    "        ## now actually applying the two layers\n",
    "        x_h = func.relu(self.fc_1(x))\n",
    "        z = func.relu(self.fc_2(x_h))\n",
    "        return z\n",
    "    \n",
    "\n",
    "class Decoder(torch.nn.Module):\n",
    "    def __init__(self, latent_dim: int, output_dim: Tuple[int, int]) -> None:\n",
    "        super().__init__()\n",
    "        hidden_dim = 512\n",
    "        self.output_dim = output_dim\n",
    "        self.fc_1 = torch.nn.Linear(latent_dim, hidden_dim)\n",
    "        self.fc_2 = torch.nn.Linear(hidden_dim, self.output_dim[0] * self.output_dim[1])\n",
    "    \n",
    "    def forward(self, z: torch.Tensor) -> torch.Tensor:\n",
    "        z_h = func.relu(self.fc_1(z))\n",
    "        x_hat = torch.sigmoid(self.fc_2(z_h))\n",
    "        # x_hat.shape -> (number_of_images, image_width * image_height)\n",
    "        x_hat = torch.reshape(x_hat, (-1, self.output_dim[0], self.output_dim[1]))\n",
    "        # x_hat.shape -> (number_of_images, image_width, image_height)\n",
    "        return x_hat\n",
    "\n",
    "class AutoEncoder(torch.nn.Module):\n",
    "    def __init__(self, data_dim: Tuple[int, int], latent_dim: int) -> None:\n",
    "        super().__init__()\n",
    "        self.encoder = Encoder(data_dim, latent_dim)\n",
    "        # in a VAE --> we add sampling here...\n",
    "        self.decoder = Decoder(latent_dim, data_dim)\n",
    "\n",
    "    def forward(self, x: torch.Tensor) -> torch.Tensor:\n",
    "        z = self.encoder(x)\n",
    "        x_hat = self.decoder(z)\n",
    "        return x_hat\n",
    "\n",
    "if is_test: \n",
    "    x = torch.ones((1, 28, 28))\n",
    "    ae = AutoEncoder((28, 28), 144)\n",
    "    ae(x)"
   ]
  },
  {
   "cell_type": "code",
   "execution_count": 4,
   "metadata": {},
   "outputs": [
    {
     "name": "stderr",
     "output_type": "stream",
     "text": [
      "0.3%"
     ]
    },
    {
     "name": "stdout",
     "output_type": "stream",
     "text": [
      "Downloading http://yann.lecun.com/exdb/mnist/train-images-idx3-ubyte.gz\n",
      "Downloading http://yann.lecun.com/exdb/mnist/train-images-idx3-ubyte.gz to ../data\\MNIST\\raw\\train-images-idx3-ubyte.gz\n"
     ]
    },
    {
     "name": "stderr",
     "output_type": "stream",
     "text": [
      "100.0%\n"
     ]
    },
    {
     "name": "stdout",
     "output_type": "stream",
     "text": [
      "Extracting ../data\\MNIST\\raw\\train-images-idx3-ubyte.gz to ../data\\MNIST\\raw\n"
     ]
    },
    {
     "name": "stderr",
     "output_type": "stream",
     "text": [
      "102.8%"
     ]
    },
    {
     "name": "stdout",
     "output_type": "stream",
     "text": [
      "\n",
      "Downloading http://yann.lecun.com/exdb/mnist/train-labels-idx1-ubyte.gz\n",
      "Downloading http://yann.lecun.com/exdb/mnist/train-labels-idx1-ubyte.gz to ../data\\MNIST\\raw\\train-labels-idx1-ubyte.gz\n",
      "Extracting ../data\\MNIST\\raw\\train-labels-idx1-ubyte.gz to ../data\\MNIST\\raw\n",
      "\n",
      "Downloading http://yann.lecun.com/exdb/mnist/t10k-images-idx3-ubyte.gz\n",
      "Downloading http://yann.lecun.com/exdb/mnist/t10k-images-idx3-ubyte.gz to ../data\\MNIST\\raw\\t10k-images-idx3-ubyte.gz\n"
     ]
    },
    {
     "name": "stderr",
     "output_type": "stream",
     "text": [
      "\n",
      "100.0%\n"
     ]
    },
    {
     "name": "stdout",
     "output_type": "stream",
     "text": [
      "Extracting ../data\\MNIST\\raw\\t10k-images-idx3-ubyte.gz to ../data\\MNIST\\raw\n"
     ]
    },
    {
     "name": "stderr",
     "output_type": "stream",
     "text": [
      "112.7%"
     ]
    },
    {
     "name": "stdout",
     "output_type": "stream",
     "text": [
      "\n",
      "Downloading http://yann.lecun.com/exdb/mnist/t10k-labels-idx1-ubyte.gz\n",
      "Downloading http://yann.lecun.com/exdb/mnist/t10k-labels-idx1-ubyte.gz to ../data\\MNIST\\raw\\t10k-labels-idx1-ubyte.gz\n",
      "Extracting ../data\\MNIST\\raw\\t10k-labels-idx1-ubyte.gz to ../data\\MNIST\\raw\n",
      "\n"
     ]
    },
    {
     "name": "stderr",
     "output_type": "stream",
     "text": [
      "\n",
      " 75%|███████▌  | 15/20 [34:34<11:31, 138.30s/it]\n"
     ]
    },
    {
     "ename": "KeyboardInterrupt",
     "evalue": "",
     "output_type": "error",
     "traceback": [
      "\u001b[1;31m---------------------------------------------------------------------------\u001b[0m",
      "\u001b[1;31mKeyboardInterrupt\u001b[0m                         Traceback (most recent call last)",
      "\u001b[1;32m~\\AppData\\Local\\Temp/ipykernel_2212/17517960.py\u001b[0m in \u001b[0;36m<module>\u001b[1;34m\u001b[0m\n\u001b[0;32m     24\u001b[0m     )\n\u001b[0;32m     25\u001b[0m \u001b[1;33m\u001b[0m\u001b[0m\n\u001b[1;32m---> 26\u001b[1;33m     \u001b[0mtrain\u001b[0m\u001b[1;33m(\u001b[0m\u001b[0mae\u001b[0m\u001b[1;33m,\u001b[0m \u001b[0mdata\u001b[0m\u001b[1;33m,\u001b[0m \u001b[0mnb_epochs\u001b[0m\u001b[1;33m)\u001b[0m\u001b[1;33m\u001b[0m\u001b[1;33m\u001b[0m\u001b[0m\n\u001b[0m",
      "\u001b[1;32m~\\AppData\\Local\\Temp/ipykernel_2212/17517960.py\u001b[0m in \u001b[0;36mtrain\u001b[1;34m(ae, data, nb_epochs)\u001b[0m\n\u001b[0;32m      7\u001b[0m             \u001b[0mloss\u001b[0m \u001b[1;33m=\u001b[0m \u001b[1;33m(\u001b[0m\u001b[1;33m(\u001b[0m\u001b[0mx\u001b[0m \u001b[1;33m-\u001b[0m \u001b[0mx_hat\u001b[0m\u001b[1;33m)\u001b[0m \u001b[1;33m**\u001b[0m \u001b[1;36m2\u001b[0m\u001b[1;33m)\u001b[0m\u001b[1;33m.\u001b[0m\u001b[0msum\u001b[0m\u001b[1;33m(\u001b[0m\u001b[1;33m)\u001b[0m\u001b[1;33m\u001b[0m\u001b[1;33m\u001b[0m\u001b[0m\n\u001b[0;32m      8\u001b[0m             \u001b[0mopt\u001b[0m\u001b[1;33m.\u001b[0m\u001b[0mzero_grad\u001b[0m\u001b[1;33m(\u001b[0m\u001b[1;33m)\u001b[0m\u001b[1;33m\u001b[0m\u001b[1;33m\u001b[0m\u001b[0m\n\u001b[1;32m----> 9\u001b[1;33m             \u001b[0mloss\u001b[0m\u001b[1;33m.\u001b[0m\u001b[0mbackward\u001b[0m\u001b[1;33m(\u001b[0m\u001b[1;33m)\u001b[0m\u001b[1;33m\u001b[0m\u001b[1;33m\u001b[0m\u001b[0m\n\u001b[0m\u001b[0;32m     10\u001b[0m             \u001b[0mopt\u001b[0m\u001b[1;33m.\u001b[0m\u001b[0mstep\u001b[0m\u001b[1;33m(\u001b[0m\u001b[1;33m)\u001b[0m\u001b[1;33m\u001b[0m\u001b[1;33m\u001b[0m\u001b[0m\n\u001b[0;32m     11\u001b[0m \u001b[1;33m\u001b[0m\u001b[0m\n",
      "\u001b[1;32m~\\anaconda3\\envs\\env_ml\\lib\\site-packages\\torch\\_tensor.py\u001b[0m in \u001b[0;36mbackward\u001b[1;34m(self, gradient, retain_graph, create_graph, inputs)\u001b[0m\n\u001b[0;32m    305\u001b[0m                 \u001b[0mcreate_graph\u001b[0m\u001b[1;33m=\u001b[0m\u001b[0mcreate_graph\u001b[0m\u001b[1;33m,\u001b[0m\u001b[1;33m\u001b[0m\u001b[1;33m\u001b[0m\u001b[0m\n\u001b[0;32m    306\u001b[0m                 inputs=inputs)\n\u001b[1;32m--> 307\u001b[1;33m         \u001b[0mtorch\u001b[0m\u001b[1;33m.\u001b[0m\u001b[0mautograd\u001b[0m\u001b[1;33m.\u001b[0m\u001b[0mbackward\u001b[0m\u001b[1;33m(\u001b[0m\u001b[0mself\u001b[0m\u001b[1;33m,\u001b[0m \u001b[0mgradient\u001b[0m\u001b[1;33m,\u001b[0m \u001b[0mretain_graph\u001b[0m\u001b[1;33m,\u001b[0m \u001b[0mcreate_graph\u001b[0m\u001b[1;33m,\u001b[0m \u001b[0minputs\u001b[0m\u001b[1;33m=\u001b[0m\u001b[0minputs\u001b[0m\u001b[1;33m)\u001b[0m\u001b[1;33m\u001b[0m\u001b[1;33m\u001b[0m\u001b[0m\n\u001b[0m\u001b[0;32m    308\u001b[0m \u001b[1;33m\u001b[0m\u001b[0m\n\u001b[0;32m    309\u001b[0m     \u001b[1;32mdef\u001b[0m \u001b[0mregister_hook\u001b[0m\u001b[1;33m(\u001b[0m\u001b[0mself\u001b[0m\u001b[1;33m,\u001b[0m \u001b[0mhook\u001b[0m\u001b[1;33m)\u001b[0m\u001b[1;33m:\u001b[0m\u001b[1;33m\u001b[0m\u001b[1;33m\u001b[0m\u001b[0m\n",
      "\u001b[1;32m~\\anaconda3\\envs\\env_ml\\lib\\site-packages\\torch\\autograd\\__init__.py\u001b[0m in \u001b[0;36mbackward\u001b[1;34m(tensors, grad_tensors, retain_graph, create_graph, grad_variables, inputs)\u001b[0m\n\u001b[0;32m    154\u001b[0m     Variable._execution_engine.run_backward(\n\u001b[0;32m    155\u001b[0m         \u001b[0mtensors\u001b[0m\u001b[1;33m,\u001b[0m \u001b[0mgrad_tensors_\u001b[0m\u001b[1;33m,\u001b[0m \u001b[0mretain_graph\u001b[0m\u001b[1;33m,\u001b[0m \u001b[0mcreate_graph\u001b[0m\u001b[1;33m,\u001b[0m \u001b[0minputs\u001b[0m\u001b[1;33m,\u001b[0m\u001b[1;33m\u001b[0m\u001b[1;33m\u001b[0m\u001b[0m\n\u001b[1;32m--> 156\u001b[1;33m         allow_unreachable=True, accumulate_grad=True)  # allow_unreachable flag\n\u001b[0m\u001b[0;32m    157\u001b[0m \u001b[1;33m\u001b[0m\u001b[0m\n\u001b[0;32m    158\u001b[0m \u001b[1;33m\u001b[0m\u001b[0m\n",
      "\u001b[1;31mKeyboardInterrupt\u001b[0m: "
     ]
    }
   ],
   "source": [
    "def train(ae: AutoEncoder, data: torch.Tensor, nb_epochs: int):\n",
    "    opt = torch.optim.Adam(ae.parameters())\n",
    "    for epoch in tqdm(range(nb_epochs)):\n",
    "        for x, _ in data:\n",
    "            x = x.to(device) # GPU if we have one\n",
    "            x_hat = ae(x)\n",
    "            loss = ((x - x_hat) ** 2).sum()\n",
    "            opt.zero_grad()\n",
    "            loss.backward()\n",
    "            opt.step()\n",
    "\n",
    "if is_test:\n",
    "    batch_size = 128\n",
    "    nb_epochs = 20\n",
    "    latent_dim = 2\n",
    "\n",
    "    ae = AutoEncoder((28, 28), latent_dim)\n",
    "    data = torch.utils.data.DataLoader(\n",
    "        torchvision.datasets.MNIST('../data',\n",
    "            transform=torchvision.transforms.ToTensor(),\n",
    "            download=True),\n",
    "        batch_size=batch_size,\n",
    "        shuffle=True\n",
    "    )\n",
    "\n",
    "    train(ae, data, nb_epochs)"
   ]
  },
  {
   "cell_type": "code",
   "execution_count": null,
   "metadata": {},
   "outputs": [],
   "source": [
    "def plot_reconstructed(ae: AutoEncoder, r0=(-5, 10), r1=(-10, 5), n=12):\n",
    "    w = 28\n",
    "    img = np.zeros((n*w, n*w))\n",
    "    for i, y in enumerate(np.linspace(*r1, n)):\n",
    "        for j, x in enumerate(np.linspace(*r0, n)):\n",
    "            z = torch.Tensor([[x, y]]).to(device)\n",
    "            x_hat = ae.decoder(z)\n",
    "            x_hat = x_hat.reshape(28, 28).to('cpu').detach().numpy()\n",
    "            img[(n-1-i)*w:(n-1-i+1)*w, j*w:(j+1)*w] = x_hat\n",
    "    plt.imshow(img, extent=[*r0, *r1])\n",
    "\n",
    "if is_test:\n",
    "    plot_reconstructed(ae)"
   ]
  },
  {
   "cell_type": "markdown",
   "metadata": {},
   "source": [
    "$$\n",
    "\\mathbb{KL}\\left( \\mathcal{N}(\\mu, \\sigma) \\parallel \\mathcal{N}(0, 1) \\right) = \\sum_{x \\in X} \\left( \\sigma^2 + \\mu^2 - \\log \\sigma - \\frac{1}{2} \\right)\n",
    "$$"
   ]
  },
  {
   "cell_type": "code",
   "execution_count": 6,
   "metadata": {},
   "outputs": [],
   "source": [
    "\n",
    "class VariationalEncoder(torch.nn.Module):\n",
    "    def __init__(self, input_dim: Tuple[int ,int], latent_dim: int) -> None:\n",
    "        super().__init__()\n",
    "        hidden_dim = 512\n",
    "        self.input_dim = input_dim\n",
    "        # fc -> fully connected\n",
    "        self.fc_1 = torch.nn.Linear(self.input_dim[0] * self.input_dim[1], hidden_dim)\n",
    "        self.fc_mu = torch.nn.Linear(hidden_dim, latent_dim)\n",
    "        self.fc_sigma = torch.nn.Linear(hidden_dim, latent_dim)\n",
    "\n",
    "        self.gaussian = torch.distributions.Normal(0, 1)\n",
    "        if device == 'cuda':\n",
    "            self.gaussian.loc = self.gaussian.loc.cuda()\n",
    "            self.gaussian.scale = self.gaussian.scale.cuda()\n",
    "        self.aux_loss = 0\n",
    "\n",
    "    def forward(self, x: torch.Tensor) -> torch.Tensor:\n",
    "        # from x to z \n",
    "        # x.shape -> (number_of_images, image_width, image_height)\n",
    "        x = torch.flatten(x, start_dim=1)\n",
    "        # x.shape -> (number_of_images, image_width * image_height)\n",
    "        ## now actually applying the two layers\n",
    "        x_h = func.relu(self.fc_1(x))\n",
    "        # Variational part\n",
    "        mu = self.fc_mu(x_h)\n",
    "        sigma = torch.exp(self.fc_sigma(x_h))\n",
    "        z = mu + sigma * self.gaussian.sample(mu.shape)\n",
    "        self.aux_loss = (sigma ** 2 + mu ** 2 - torch.log(sigma) - 0.5).sum()\n",
    "        return z\n",
    "    \n",
    "class VariationalAutoEncoder(torch.nn.Module):\n",
    "    def __init__(self, data_dim: Tuple[int, int], latent_dim: int) -> None:\n",
    "        super().__init__()\n",
    "        self.encoder = VariationalEncoder(data_dim, latent_dim)\n",
    "        # in a VAE --> we add sampling here...\n",
    "        self.decoder = Decoder(latent_dim, data_dim)\n",
    "\n",
    "    def forward(self, x: torch.Tensor) -> torch.Tensor:\n",
    "        z = self.encoder(x)\n",
    "        x_hat = self.decoder(z)\n",
    "        return x_hat"
   ]
  },
  {
   "cell_type": "code",
   "execution_count": 7,
   "metadata": {},
   "outputs": [
    {
     "ename": "NameError",
     "evalue": "name 'vae' is not defined",
     "output_type": "error",
     "traceback": [
      "\u001b[1;31m---------------------------------------------------------------------------\u001b[0m",
      "\u001b[1;31mNameError\u001b[0m                                 Traceback (most recent call last)",
      "\u001b[1;32m~\\AppData\\Local\\Temp/ipykernel_2212/2768904395.py\u001b[0m in \u001b[0;36m<module>\u001b[1;34m\u001b[0m\n\u001b[0;32m     24\u001b[0m     )\n\u001b[0;32m     25\u001b[0m \u001b[1;33m\u001b[0m\u001b[0m\n\u001b[1;32m---> 26\u001b[1;33m     \u001b[0mtrain\u001b[0m\u001b[1;33m(\u001b[0m\u001b[0mvae\u001b[0m\u001b[1;33m,\u001b[0m \u001b[0mdata\u001b[0m\u001b[1;33m,\u001b[0m \u001b[0mnb_epochs\u001b[0m\u001b[1;33m)\u001b[0m\u001b[1;33m\u001b[0m\u001b[1;33m\u001b[0m\u001b[0m\n\u001b[0m",
      "\u001b[1;31mNameError\u001b[0m: name 'vae' is not defined"
     ]
    }
   ],
   "source": [
    "def train(vae: VariationalAutoEncoder, data: torch.Tensor, nb_epochs: int):\n",
    "    opt = torch.optim.Adam(ae.parameters())\n",
    "    for epoch in tqdm(range(nb_epochs)):\n",
    "        for x, _ in data:\n",
    "            x = x.to(device) # GPU if we have one\n",
    "            x_hat = vae(x)\n",
    "            loss = ((x - x_hat) ** 2).sum() + vae.encoder.aux_loss\n",
    "            opt.zero_grad()\n",
    "            loss.backward()\n",
    "            opt.step()\n",
    "\n",
    "if is_test:\n",
    "    batch_size = 64\n",
    "    nb_epochs = 20\n",
    "    latent_dim = 2\n",
    "\n",
    "    vae = VariationalAutoEncoder((28, 28), latent_dim)\n",
    "    data = torch.utils.data.DataLoader(\n",
    "        torchvision.datasets.MNIST('../data',\n",
    "            transform=torchvision.transforms.ToTensor(),\n",
    "            download=True),\n",
    "        batch_size=batch_size,\n",
    "        shuffle=True\n",
    "    )\n",
    "\n",
    "    train(vae, data, nb_epochs)"
   ]
  },
  {
   "cell_type": "code",
   "execution_count": null,
   "metadata": {},
   "outputs": [],
   "source": []
  }
 ],
 "metadata": {
  "interpreter": {
   "hash": "bdee5132746f6a5e9219a6ff337a508c1eb916bbb331bb0a43070022b51808c2"
  },
  "kernelspec": {
   "display_name": "Python 3.7.12 64-bit ('env_network_hacking': conda)",
   "language": "python",
   "name": "python3"
  },
  "language_info": {
   "codemirror_mode": {
    "name": "ipython",
    "version": 3
   },
   "file_extension": ".py",
   "mimetype": "text/x-python",
   "name": "python",
   "nbconvert_exporter": "python",
   "pygments_lexer": "ipython3",
   "version": "3.7.11"
  },
  "orig_nbformat": 4
 },
 "nbformat": 4,
 "nbformat_minor": 2
}
