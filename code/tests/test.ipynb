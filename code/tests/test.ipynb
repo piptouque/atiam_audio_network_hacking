{
 "cells": [
  {
   "cell_type": "code",
   "execution_count": null,
   "metadata": {},
   "outputs": [],
   "source": [
    "import torch.utils.tensorboard"
   ]
  },
  {
   "cell_type": "code",
   "execution_count": null,
   "metadata": {},
   "outputs": [],
   "source": []
  }
 ],
 "metadata": {
  "interpreter": {
   "hash": "bdee5132746f6a5e9219a6ff337a508c1eb916bbb331bb0a43070022b51808c2"
  },
  "kernelspec": {
   "display_name": "Python 3.7.12 64-bit ('env_network_hacking': conda)",
   "language": "python",
   "name": "python3"
  },
  "language_info": {
   "name": "python",
   "version": "3.7.12"
  },
  "orig_nbformat": 4
 },
 "nbformat": 4,
 "nbformat_minor": 2
}
